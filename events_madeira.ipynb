{
 "cells": [
  {
   "cell_type": "code",
   "execution_count": 155,
   "metadata": {},
   "outputs": [],
   "source": [
    "import pandas as pd\n",
    "import requests\n",
    "from bs4 import BeautifulSoup\n",
    "from datetime import datetime\n",
    "\n"
   ]
  },
  {
   "cell_type": "code",
   "execution_count": 156,
   "metadata": {},
   "outputs": [
    {
     "data": {
      "text/plain": [
       "78"
      ]
     },
     "execution_count": 156,
     "metadata": {},
     "output_type": "execute_result"
    }
   ],
   "source": [
    "url = 'https://eventsmadeira.com/en/event-listing/'\n",
    "headers = {'User-Agent': 'Mozilla/5.0 (Macintosh; Intel Mac OS X 10_11_5) AppleWebKit/537.36 (KHTML, like Gecko) Chrome/50.0.2661.102 Safari/537.36'}\n",
    "response = requests.get(url, headers=headers)\n",
    "\n",
    "soup = BeautifulSoup(response.text, 'html.parser')\n",
    "divs = soup.find_all('div', class_='gt-event-style-3')\n",
    "len(divs)\n"
   ]
  },
  {
   "cell_type": "code",
   "execution_count": 184,
   "metadata": {},
   "outputs": [],
   "source": [
    "def get_data_text(result):\n",
    "    list_items_text = [li.text for li in result.find_all('li')]\n",
    "    if list_items_text and len(list_items_text) > 1:\n",
    "        # remove duplicities\n",
    "        return ', '.join(list(set(list_items_text)))\n",
    "    return result.text\n",
    "\n",
    "def fill_datetime(info_container, data):\n",
    "    datetime_labels = [('start_date', 'start_time', 'gt-start-date'), ('end_date', 'end_time', 'gt-end-date')]\n",
    "    for date_label, time_label, class_name in datetime_labels:\n",
    "        datetime_scrapped = info_container.find('li', {'class': class_name})\n",
    "\n",
    "        if datetime_scrapped is not None:\n",
    "            datetime_ = datetime_scrapped.find('div', {'class': 'gt-inner'}).text\n",
    "            print(datetime_)\n",
    "            datetime_obj = datetime.strptime(datetime_, '%d/%m/%Y %H:%M') if len(datetime_.split(' ')) > 0 else datetime.strptime(datetime_, '%d/%m/%Y')\n",
    "\n",
    "            data[date_label].append(datetime_obj.date())\n",
    "            data[time_label].append(datetime_obj.time())\n",
    "\n",
    "        else:\n",
    "            data[date_label].append('-')\n",
    "            data[time_label].append('-')\n",
    "\n",
    "def fill_description(page_content, data):\n",
    "    description = page_content.find('div', {'class': 'gt-content'})\n",
    "    data['description'].append(' '.join([p.text for p in description]).replace('\\n', '') if description else '-')\n",
    "\n",
    "def fill_event_data(url, data):\n",
    "    response = requests.get(url, headers=headers)\n",
    "    soup = BeautifulSoup(response.text, 'html.parser')\n",
    "\n",
    "    page_content = soup.find('div', {'class': 'gt-page-content'})\n",
    "    info_container = soup.find('div', {'class': 'gt-content-detail-box'})\n",
    "    if not info_container:\n",
    "        return None\n",
    "    else: \n",
    "        fill_datetime(info_container, data)\n",
    "        fill_description(page_content, data)\n",
    "        address = info_container.find('li', {'class': 'gt-address'}).find('div', {'class': 'gt-inner'}).text if info_container.find('li', {'class': 'gt-address'}) else '-'\n",
    "        # todo: finish location + categories + title\n",
    "        location = info_container.find('li', {'class': 'gt-locations'}).find('div', {'class': 'gt-inner'}) if info_container.find('li', {'class': 'gt-locations'}) else '-'\n",
    "        \n",
    "        print(location)\n",
    "        data['address'].append(address)\n",
    "        data['location'].append(location)\n",
    "\n",
    "\n",
    "        \n",
    "        \n",
    "    \n",
    "\n",
    "    \n"
   ]
  },
  {
   "cell_type": "code",
   "execution_count": 186,
   "metadata": {},
   "outputs": [
    {
     "name": "stdout",
     "output_type": "stream",
     "text": [
      "https://eventsmadeira.com/en/event/mandolin-orchestra-weekly-concerts/\n",
      "17/11/2023 21:00\n",
      "01/12/2024 22:00\n",
      "<div class=\"gt-inner\"><ul><li><a href=\"https://eventsmadeira.com/en/location/funchal-en/?post_type=event\">Funchal</a></li><li><a href=\"https://eventsmadeira.com/en/location/funchal-en/?post_type=event\">Funchal</a></li></ul></div>\n"
     ]
    }
   ],
   "source": [
    "all_fields = [\"title\", \"start_date\", \"end_date\", \"start_time\", \"end_time\",  \"location\", \"category\", 'address', 'description', 'sourceLink', 'sourceId']\n",
    "fields = [\"title\", \"location\", \"category\"]\n",
    "\n",
    "data = {field: [] for field in all_fields}\n",
    "\n",
    "for div in divs[6:7]:\n",
    "    print(url)\n",
    "    url = div.find('div', class_='gt-title').find('a')['href']\n",
    "    data['sourceLink'].append(url)\n",
    "    data['sourceId'].append(1)\n",
    "    fill_event_data(url, data)\n"
   ]
  },
  {
   "cell_type": "code",
   "execution_count": 159,
   "metadata": {},
   "outputs": [],
   "source": [
    "# fields = [\"start_date\", \"end_date\", \"start_time\", \"end_time\"]\n",
    "# # todo: do not introduce new fields, but modify the existing ones\n",
    "# data_dt = {field: [] for field in fields}\n",
    "\n",
    "# for date, time in zip(data['date'], data['time']): \n",
    "#     splitted_date = date.split(' - ')\n",
    "#     if len(splitted_date) > 1:\n",
    "#         # todo: handle case where time is interval (e.g. 10:00 - 12:00)\n",
    "#         start = datetime.strptime(splitted_date[0] + time, '%d/%m/%Y%H:%M')\n",
    "#         end = datetime.strptime(splitted_date[1], '%d/%m/%Y')\n",
    "#         data_dt['start_date'].append(start.date())\n",
    "#         data_dt['end_date'].append(end.date())\n",
    "#         data_dt['start_time'].append(start.time())\n",
    "#         data_dt['end_time'].append(end.time())\n",
    "#     else:\n",
    "#         if splitted_date[0] == '-': \n",
    "#             data_dt['start_date'].append('-')\n",
    "#             data_dt['end_date'].append('-')\n",
    "#             data_dt['start_time'].append('-')\n",
    "#             data_dt['end_time'].append('-')\n",
    "#         else: \n",
    "#             start = datetime.strptime(splitted_date[0], '%d/%m/%Y')\n",
    "#             data_dt['start_date'].append(start.date())\n",
    "#             data_dt['end_date'].append('-')\n",
    "#             data_dt['start_time'].append(start.time())\n",
    "#             data_dt['end_time'].append('-')\n",
    "\n",
    "\n",
    "        \n"
   ]
  },
  {
   "cell_type": "code",
   "execution_count": 181,
   "metadata": {},
   "outputs": [
    {
     "data": {
      "text/plain": [
       "{'title': [],\n",
       " 'start_date': [datetime.date(2023, 11, 17)],\n",
       " 'end_date': [datetime.date(2024, 12, 1)],\n",
       " 'start_time': [datetime.time(21, 0)],\n",
       " 'end_time': [datetime.time(22, 0)],\n",
       " 'location': ['FunchalFunchal'],\n",
       " 'category': [],\n",
       " 'address': ['Assembleia Legislativa Regional '],\n",
       " 'description': [' Recognized as the oldest and youngest Mandolin Orchestra in Europe, a distinction of relevance in a region of excellence within the European community, the Madeira Mandolin Orchestra® presents itself in the 2023/2024 Musical Season with a unique artistic proposal and diversified, contemplating programs adapted to the mandolin of the great classics of world music, striving for the quality that is recognized in the preservation and dissemination of the history of the mandolin in Madeira.  Hear, feel and communicate the universal language of music.  For more information about the Orchestra and to acquire tickets for the concerts, visit the official website – www.madeiramandolin.com.  Concerts:November,17th – Madeira Legislative AssemblyDecember,1st –  Madeira Legislative AssemblyDecember, 8th- Madeira Legislative AssemblyDecember, 29th – Madeira Legislative AssemblyJanuary, 1st – New Year´s concert (6pm)  For more information about the Orchestra and to acquire tickets for the concerts, visit the official website – www.madeiramandolin.com.  +info: Website Oficial, Youtube       '],\n",
       " 'sourceLink': ['https://eventsmadeira.com/en/event/mandolin-orchestra-weekly-concerts/'],\n",
       " 'sourceId': [1]}"
      ]
     },
     "execution_count": 181,
     "metadata": {},
     "output_type": "execute_result"
    }
   ],
   "source": [
    "# df = pd.DataFrame(data)\n",
    "\n",
    "data\n"
   ]
  }
 ],
 "metadata": {
  "kernelspec": {
   "display_name": "Python 3.11.6 64-bit",
   "language": "python",
   "name": "python3"
  },
  "language_info": {
   "codemirror_mode": {
    "name": "ipython",
    "version": 3
   },
   "file_extension": ".py",
   "mimetype": "text/x-python",
   "name": "python",
   "nbconvert_exporter": "python",
   "pygments_lexer": "ipython3",
   "version": "3.11.6"
  },
  "orig_nbformat": 4,
  "vscode": {
   "interpreter": {
    "hash": "b0fa6594d8f4cbf19f97940f81e996739fb7646882a419484c72d19e05852a7e"
   }
  }
 },
 "nbformat": 4,
 "nbformat_minor": 2
}
