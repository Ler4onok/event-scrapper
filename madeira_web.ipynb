{
 "cells": [
  {
   "cell_type": "code",
   "execution_count": 1,
   "metadata": {},
   "outputs": [],
   "source": [
    "import pandas as pd\n",
    "import requests\n",
    "from bs4 import BeautifulSoup"
   ]
  },
  {
   "cell_type": "code",
   "execution_count": 2,
   "metadata": {},
   "outputs": [],
   "source": [
    "locations = ['Chão da Ribeira', 'Sexial', 'Funchal']"
   ]
  },
  {
   "cell_type": "code",
   "execution_count": 3,
   "metadata": {},
   "outputs": [],
   "source": [
    "def contains_number(input_string):\n",
    "    for char in input_string:\n",
    "        if char.isdigit():\n",
    "            return True\n",
    "    return False\n",
    "\n",
    "def parse_title(title): \n",
    "    parsed_title = {}\n",
    "\n",
    "    # todo: optimize\n",
    "    # todo: handle case when there are several locations in title\n",
    "    # todo: move to separated fn\n",
    "    for location in locations: \n",
    "        if location in title: \n",
    "            parsed_title['location'] = location\n",
    "            break\n",
    "        else:\n",
    "            parsed_title['location'] = '-'\n",
    "\n",
    "    title_arr = title.split('–')\n",
    "    parsed_title[\"title\"] = title_arr[0]\n",
    "    # solve problem with different types of separators\n",
    "    if len(title_arr) > 1: \n",
    "        for arr_elem in title_arr[1:]:\n",
    "            if contains_number(arr_elem):\n",
    "                parsed_title[\"date\"] = arr_elem\n",
    "            else:\n",
    "                parsed_title[\"date\"] = '-'\n",
    "    else:\n",
    "        parsed_title[\"date\"] = '-'\n",
    "    return parsed_title"
   ]
  },
  {
   "cell_type": "code",
   "execution_count": 4,
   "metadata": {},
   "outputs": [],
   "source": [
    "url = 'https://www.madeira-web.com/en/whats-on/madeira-events.html'\n",
    "headers = {'User-Agent': 'Mozilla/5.0 (Macintosh; Intel Mac OS X 10_11_5) AppleWebKit/537.36 (KHTML, like Gecko) Chrome/50.0.2661.102 Safari/537.36'}\n",
    "response = requests.get(url, headers=headers)\n",
    "\n",
    "soup = BeautifulSoup(response.text, 'html.parser')\n"
   ]
  },
  {
   "cell_type": "code",
   "execution_count": 5,
   "metadata": {},
   "outputs": [],
   "source": [
    "fields = [\"title\", \"date\",  \"location\", ]\n",
    "\n",
    "data = {field: [] for field in fields}"
   ]
  },
  {
   "cell_type": "code",
   "execution_count": 6,
   "metadata": {},
   "outputs": [],
   "source": [
    "jan_h3 = soup.find('h3', id='jan')\n",
    "feb_h3 = soup.find('h3', id='feb')\n",
    "\n",
    "jan_to_feb_paragraphs = []\n",
    "\n",
    "current_tag = jan_h3.find_next(['p', 'h3'])  \n",
    "while current_tag and current_tag != feb_h3: \n",
    "    jan_to_feb_paragraphs.append(current_tag)\n",
    "    current_tag = current_tag.find_next(['p', 'h3'])\n",
    "\n",
    "for paragraph in jan_to_feb_paragraphs:\n",
    "    title_data = parse_title(paragraph.find('strong').text)\n",
    "    data['title'].append(title_data['title'])\n",
    "    # todo: add month name to date \n",
    "    data['date'].append(title_data['date'])\n",
    "    data['location'].append(title_data['location'])\n"
   ]
  },
  {
   "cell_type": "code",
   "execution_count": 7,
   "metadata": {},
   "outputs": [
    {
     "data": {
      "text/html": [
       "<div>\n",
       "<style scoped>\n",
       "    .dataframe tbody tr th:only-of-type {\n",
       "        vertical-align: middle;\n",
       "    }\n",
       "\n",
       "    .dataframe tbody tr th {\n",
       "        vertical-align: top;\n",
       "    }\n",
       "\n",
       "    .dataframe thead th {\n",
       "        text-align: right;\n",
       "    }\n",
       "</style>\n",
       "<table border=\"1\" class=\"dataframe\">\n",
       "  <thead>\n",
       "    <tr style=\"text-align: right;\">\n",
       "      <th></th>\n",
       "      <th>title</th>\n",
       "      <th>date</th>\n",
       "      <th>location</th>\n",
       "    </tr>\n",
       "  </thead>\n",
       "  <tbody>\n",
       "    <tr>\n",
       "      <th>0</th>\n",
       "      <td>Madeira Plunge</td>\n",
       "      <td>January 1st</td>\n",
       "      <td>-</td>\n",
       "    </tr>\n",
       "    <tr>\n",
       "      <th>1</th>\n",
       "      <td>Madeira Orienteering Festival (MOF) 2025</td>\n",
       "      <td>10-12, 2025</td>\n",
       "      <td>-</td>\n",
       "    </tr>\n",
       "    <tr>\n",
       "      <th>2</th>\n",
       "      <td>Madeira Orienteering Meeting (MOM) 2025</td>\n",
       "      <td>-</td>\n",
       "      <td>-</td>\n",
       "    </tr>\n",
       "    <tr>\n",
       "      <th>3</th>\n",
       "      <td>Funchal Marathon</td>\n",
       "      <td>-</td>\n",
       "      <td>Funchal</td>\n",
       "    </tr>\n",
       "    <tr>\n",
       "      <th>4</th>\n",
       "      <td>Poncha &amp; Honey Exhibition (Mostra da Poncha e ...</td>\n",
       "      <td>-</td>\n",
       "      <td>-</td>\n",
       "    </tr>\n",
       "    <tr>\n",
       "      <th>5</th>\n",
       "      <td>Panelo Festival - Chão da Ribeira, Seixal</td>\n",
       "      <td>-</td>\n",
       "      <td>Chão da Ribeira</td>\n",
       "    </tr>\n",
       "  </tbody>\n",
       "</table>\n",
       "</div>"
      ],
      "text/plain": [
       "                                               title           date  \\\n",
       "0                                    Madeira Plunge    January 1st    \n",
       "1          Madeira Orienteering Festival (MOF) 2025     10-12, 2025   \n",
       "2           Madeira Orienteering Meeting (MOM) 2025               -   \n",
       "3                                  Funchal Marathon               -   \n",
       "4  Poncha & Honey Exhibition (Mostra da Poncha e ...              -   \n",
       "5         Panelo Festival - Chão da Ribeira, Seixal               -   \n",
       "\n",
       "          location  \n",
       "0                -  \n",
       "1                -  \n",
       "2                -  \n",
       "3          Funchal  \n",
       "4                -  \n",
       "5  Chão da Ribeira  "
      ]
     },
     "execution_count": 7,
     "metadata": {},
     "output_type": "execute_result"
    }
   ],
   "source": [
    "df = pd.DataFrame(data)\n",
    "\n",
    "df"
   ]
  }
 ],
 "metadata": {
  "kernelspec": {
   "display_name": "Python 3.11.6 64-bit",
   "language": "python",
   "name": "python3"
  },
  "language_info": {
   "codemirror_mode": {
    "name": "ipython",
    "version": 3
   },
   "file_extension": ".py",
   "mimetype": "text/x-python",
   "name": "python",
   "nbconvert_exporter": "python",
   "pygments_lexer": "ipython3",
   "version": "3.11.7"
  },
  "orig_nbformat": 4,
  "vscode": {
   "interpreter": {
    "hash": "b0fa6594d8f4cbf19f97940f81e996739fb7646882a419484c72d19e05852a7e"
   }
  }
 },
 "nbformat": 4,
 "nbformat_minor": 2
}
